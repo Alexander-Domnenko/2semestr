{
 "cells": [
  {
   "cell_type": "code",
   "execution_count": 128,
   "id": "e31cff05",
   "metadata": {},
   "outputs": [
    {
     "data": {
      "text/html": [
       "<img src=\"data:image/svg+xml;base64,PD94bWwgdmVyc2lvbj0iMS4wIiBlbmNvZGluZz0iVVRGLTgiPz4KPHN2ZyB4bWxucz0iaHR0cDovL3d3dy53My5vcmcvMjAwMC9zdmciIHhtbG5zOnhsaW5rPSJodHRwOi8vd3d3LnczLm9yZy8xOTk5L3hsaW5rIgogICAgIHdpZHRoPSIzMDAiIGhlaWdodD0iMzAwIiB2aWV3Qm94PSItMTUwLjAgLTE1MC4wIDMwMCAzMDAiPgo8ZGVmcz4KPC9kZWZzPgo8cmVjdCB4PSItMTQwIiB5PSItMjIwIiB3aWR0aD0iMTAiIGhlaWdodD0iMzAwIiBmaWxsPSIjMTI0OGZmIj4KPGFuaW1hdGUgY2FsY01vZGU9ImdyYWRpZW50IiByZXBlYXRDb3VudD0iaW5kZWZpbml0ZSIgYXR0cmlidXRlTmFtZT0iZmlsbCIgZHVyPSIzcyIgdmFsdWVzPSJ5ZWxsb3c7Ymx1ZTtncmVlbjtwaW5rIiAvPgo8L3JlY3Q+CjxyZWN0IHg9IjE0MCIgeT0iLTIyMCIgd2lkdGg9IjEwIiBoZWlnaHQ9IjMwMCIgZmlsbD0iIzEyNDhmZiI+CjxhbmltYXRlIGNhbGNNb2RlPSJncmFkaWVudCIgcmVwZWF0Q291bnQ9ImluZGVmaW5pdGUiIGF0dHJpYnV0ZU5hbWU9ImZpbGwiIGR1cj0iM3MiIHZhbHVlcz0icGluaztncmVlbjtibHVlO3llbGxvdyIgLz4KPC9yZWN0Pgo8Y2lyY2xlIGN4PSItMTEwIiBjeT0iNTAiIHI9IjIwIiBmaWxsPSJyZWQiIHN0cm9rZS13aWR0aD0iMiIgc3Ryb2tlPSJwaW5rIj4KPGFuaW1hdGUgcmVwZWF0Q291bnQ9ImluZGVmaW5pdGUiIGF0dHJpYnV0ZU5hbWU9ImN5IiBkdXI9IjIwcyIgdmFsdWVzPSI0MDstMTAwOzQwOy0xMjA7NDAiIC8+CjxhbmltYXRlIHJlcGVhdENvdW50PSJpbmRlZmluaXRlIiBhdHRyaWJ1dGVOYW1lPSJjeCIgZHVyPSI1cyIgdmFsdWVzPSItMTEwOzc1Oy0xMTAiIC8+CjxhbmltYXRlIGNhbGNNb2RlPSJkaXNjcmV0ZSIgcmVwZWF0Q291bnQ9ImluZGVmaW5pdGUiIGF0dHJpYnV0ZU5hbWU9ImZpbGwiIGR1cj0iNXMiIHZhbHVlcz0icmVkO2dyZWVuIiAvPgo8YW5pbWF0ZVRyYW5zZm9ybSB0eXBlPSJzY2FsZSIgcmVwZWF0Q291bnQ9ImluZGVmaW5pdGUiIGF0dHJpYnV0ZU5hbWU9InRyYW5zZm9ybSIgZHVyPSI1cyIgdmFsdWVzPSIxOzEuNTsxIiAvPgo8L2NpcmNsZT4KPC9zdmc+\">"
      ],
      "text/plain": [
       "<drawSvg.drawing.Drawing at 0x1f853cb3b80>"
      ]
     },
     "execution_count": 128,
     "metadata": {},
     "output_type": "execute_result"
    }
   ],
   "source": [
    "import drawSvg as draw\n",
    "\n",
    "draw_place = draw.Drawing(300, 300, origin='center', \n",
    "displayInline=False)\n",
    "rect = draw.Rectangle(-140,-80,10,300, fill='#1248ff')\n",
    "rect2 = draw.Rectangle(140,-80,10,300, fill='#1248ff')\n",
    "circle=draw.Circle(-110, -50, 20, fill='red', stroke_width=2, stroke='pink')\n",
    "circle2=draw.Circle(120, 120, 20, fill='yellow', stroke_width=2, stroke='pink')\n",
    "circle_anime=draw.Animate('cy','20s','40;-100;40;-120;40',repeatCount='indefinite')\n",
    "circle.appendAnim(circle_anime)\n",
    "circle.appendAnim(draw.Animate('cx','5s','-110;75;-110',repeatCount='indefinite'))\n",
    "circle.appendAnim(draw.Animate('fill','5s','red;green',calcMode='discrete',repeatCount='indefinite'))\n",
    "rect2.appendAnim(draw.Animate('fill','3s','pink;green;blue;yellow',calcMode='gradient',repeatCount='indefinite'))\n",
    "rect.appendAnim(draw.Animate('fill','3s','yellow;blue;green;pink',calcMode='gradient',repeatCount='indefinite'))\n",
    "circle.appendAnim(draw.AnimateTransform('scale', \n",
    "'5s', '1;1.5;1', \n",
    "repeatCount='indefinite'))\n",
    "draw_place.append(rect)\n",
    "draw_place.append(rect2)\n",
    "draw_place.append(circle)\n",
    "#draw_place.append(circle2)\n",
    "\n",
    "\n",
    "draw_place\n"
   ]
  },
  {
   "cell_type": "code",
   "execution_count": null,
   "id": "b7ab3722",
   "metadata": {},
   "outputs": [],
   "source": []
  },
  {
   "cell_type": "code",
   "execution_count": null,
   "id": "de740fe7",
   "metadata": {},
   "outputs": [],
   "source": []
  },
  {
   "cell_type": "code",
   "execution_count": null,
   "id": "191edce3",
   "metadata": {},
   "outputs": [],
   "source": []
  },
  {
   "cell_type": "code",
   "execution_count": null,
   "id": "83296a9b",
   "metadata": {},
   "outputs": [],
   "source": []
  },
  {
   "cell_type": "code",
   "execution_count": null,
   "id": "73657e42",
   "metadata": {},
   "outputs": [],
   "source": []
  },
  {
   "cell_type": "code",
   "execution_count": null,
   "id": "9ed68f9b",
   "metadata": {},
   "outputs": [],
   "source": []
  },
  {
   "cell_type": "code",
   "execution_count": null,
   "id": "34f7d7c6",
   "metadata": {},
   "outputs": [],
   "source": []
  }
 ],
 "metadata": {
  "kernelspec": {
   "display_name": "Python 3 (ipykernel)",
   "language": "python",
   "name": "python3"
  },
  "language_info": {
   "codemirror_mode": {
    "name": "ipython",
    "version": 3
   },
   "file_extension": ".py",
   "mimetype": "text/x-python",
   "name": "python",
   "nbconvert_exporter": "python",
   "pygments_lexer": "ipython3",
   "version": "3.9.7"
  }
 },
 "nbformat": 4,
 "nbformat_minor": 5
}
